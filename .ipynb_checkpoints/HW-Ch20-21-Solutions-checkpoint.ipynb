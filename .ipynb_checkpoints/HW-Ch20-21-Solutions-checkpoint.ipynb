{
 "metadata": {
  "name": "",
  "signature": "sha256:a707b9412ecc942f1d99f24b814e6858016f41a3f001dd07c917ccb6e8e058da"
 },
 "nbformat": 3,
 "nbformat_minor": 0,
 "worksheets": [
  {
   "cells": [
    {
     "cell_type": "heading",
     "level": 2,
     "metadata": {},
     "source": [
      "Chapter 20: Galaxies"
     ]
    },
    {
     "cell_type": "markdown",
     "metadata": {},
     "source": [
      "Ch 20: 33, 35, 41, 42, 45, 49, 57\n"
     ]
    },
    {
     "cell_type": "heading",
     "level": 4,
     "metadata": {},
     "source": [
      "Problem 20.33"
     ]
    },
    {
     "cell_type": "markdown",
     "metadata": {},
     "source": [
      "A quasar is an incredibly luminous object that exists at the center of a galaxy.  A quasar is actually a supermassive black hole that is gobbling up gas and stars.  As the gas and stars fall into the black hole, they heat up are create a super bright light source."
     ]
    },
    {
     "cell_type": "heading",
     "level": 4,
     "metadata": {},
     "source": [
      "Problem 20.35"
     ]
    },
    {
     "cell_type": "markdown",
     "metadata": {},
     "source": [
      "Astronomers don't observe any quasars closer than 300 Mpc because there aren't any.  Quasars are not very common in the local universe.  They were much more common in the past.  This indicates that the black holes had more gas to consume in the past."
     ]
    },
    {
     "cell_type": "heading",
     "level": 4,
     "metadata": {},
     "source": [
      "Problem 20.41"
     ]
    },
    {
     "cell_type": "markdown",
     "metadata": {},
     "source": [
      "(a) At a radius of 25 kpc, the measurement error on the rotation velocity is about 10 km/s."
     ]
    },
    {
     "cell_type": "markdown",
     "metadata": {},
     "source": [
      "(b) At 25 kpc, the rotation velocity is about 150 km/s, and the error is about 10 km/s.    The percentage of the error is:"
     ]
    },
    {
     "cell_type": "code",
     "collapsed": false,
     "input": [
      "print 'percent of error = %5.1f'%(10./150*100)"
     ],
     "language": "python",
     "metadata": {},
     "outputs": [
      {
       "output_type": "stream",
       "stream": "stdout",
       "text": [
        "percent of error =   6.7\n"
       ]
      }
     ],
     "prompt_number": 4
    },
    {
     "cell_type": "markdown",
     "metadata": {},
     "source": [
      "(c)  Shifting the observed velocities within the range of the errobars would not change the conclusion about the presence and prevalence of dark matter."
     ]
    },
    {
     "cell_type": "heading",
     "level": 4,
     "metadata": {},
     "source": [
      "Problem 20.42"
     ]
    },
    {
     "cell_type": "markdown",
     "metadata": {},
     "source": [
      "(a)  Calculate the mass of the universe:"
     ]
    },
    {
     "cell_type": "code",
     "collapsed": false,
     "input": [
      "Ngal = 1.e12 # number of galaxies\n",
      "Mgal = 1.e11 # in units of stars\n",
      "Mstar = 2e30 # in units of kg\n",
      "Muniverse = Ngal*Mgal*Mstar\n",
      "print 'the mass of the universe = %5.2e kg'%(Muniverse)\n"
     ],
     "language": "python",
     "metadata": {},
     "outputs": [
      {
       "output_type": "stream",
       "stream": "stdout",
       "text": [
        "the mass of the universe = 2.00e+53 kg\n"
       ]
      }
     ],
     "prompt_number": 8
    },
    {
     "cell_type": "code",
     "collapsed": false,
     "input": [
      "Matom = 1.e-27 # in kg\n",
      "print 'the number of particles = Muniv/(mass per particle) = %5.2e'%(Muniverse/Matom)"
     ],
     "language": "python",
     "metadata": {},
     "outputs": [
      {
       "output_type": "stream",
       "stream": "stdout",
       "text": [
        "the number of particles = Muniv/(mass per particle) = 2.00e+80\n"
       ]
      }
     ],
     "prompt_number": 9
    },
    {
     "cell_type": "heading",
     "level": 4,
     "metadata": {},
     "source": [
      "Problem 20.45"
     ]
    },
    {
     "cell_type": "markdown",
     "metadata": {},
     "source": [
      "The quasar 3C 273 has a redshift of 0.158.  What is its distance in parsecs?"
     ]
    },
    {
     "cell_type": "code",
     "collapsed": false,
     "input": [
      "z = 0.158 # redshift of quasar\n",
      "c = 3.e5 #speed of light in km/s\n",
      "vr = z*c #recession velocity\n",
      "print 'recession velocity in km/s = ',vr"
     ],
     "language": "python",
     "metadata": {},
     "outputs": [
      {
       "output_type": "stream",
       "stream": "stdout",
       "text": [
        "recession velocity in km/s =  47400.0\n"
       ]
      }
     ],
     "prompt_number": 1
    },
    {
     "cell_type": "markdown",
     "metadata": {},
     "source": [
      "We can use the Hubble Law\n",
      "\n",
      "$$\\rm  v_r = H_0 d $$\n",
      "\n",
      "to find the distance to the quasar:\n",
      "\n",
      "$$ \\rm d = \\frac{v_r}{H_0} = \\frac{46800~km/s}{70~km/s/Mpc} $$"
     ]
    },
    {
     "cell_type": "code",
     "collapsed": false,
     "input": [
      "d = vr/70.\n",
      "print 'distance in Mpc = %6.1f'%(d)\n",
      "print 'distance in pc = %5.2e'%(1.e6*d)"
     ],
     "language": "python",
     "metadata": {},
     "outputs": [
      {
       "output_type": "stream",
       "stream": "stdout",
       "text": [
        "distance in Mpc =  677.1\n",
        "distance in pc = 6.77e+08\n"
       ]
      }
     ],
     "prompt_number": 2
    },
    {
     "cell_type": "heading",
     "level": 4,
     "metadata": {},
     "source": [
      "Problem 20.49"
     ]
    },
    {
     "cell_type": "markdown",
     "metadata": {},
     "source": [
      "An object can be no larger than the distance light travels in the time during which the brightness varies.  Since the object varies with an 83-minute period, it can be no larger than 83 light-minutes across. Remember that it takes sunlight about 8.3 minutes to reach Earth, so 1 AU is 8.3 light-minutes, therefore the object is\n",
      "\n",
      "$$ \\rm size = 83~light-minutes \\left(\\frac{1~AU}{8.3~light-minutes}\\right) $$"
     ]
    },
    {
     "cell_type": "code",
     "collapsed": false,
     "input": [
      "print 'size in AU = %5.1f'%(83./8.3)"
     ],
     "language": "python",
     "metadata": {},
     "outputs": [
      {
       "output_type": "stream",
       "stream": "stdout",
       "text": [
        "size in AU =  10.0\n"
       ]
      }
     ],
     "prompt_number": 17
    },
    {
     "cell_type": "heading",
     "level": 4,
     "metadata": {},
     "source": [
      "Problem 20.57"
     ]
    },
    {
     "cell_type": "markdown",
     "metadata": {},
     "source": [
      "Classify galaxies in galaxy zoo."
     ]
    },
    {
     "cell_type": "heading",
     "level": 2,
     "metadata": {},
     "source": [
      "Ch 21: The Milky Way"
     ]
    },
    {
     "cell_type": "markdown",
     "metadata": {},
     "source": [
      "Ch 21: 27, 31, 37, 42, 44, 46, 59"
     ]
    },
    {
     "cell_type": "heading",
     "level": 4,
     "metadata": {},
     "source": [
      "Problem 21.27"
     ]
    },
    {
     "cell_type": "markdown",
     "metadata": {},
     "source": [
      "A standard candle is a type of object whose luminosity is known or can be determined based on its observed properties (light its period of variation).  Ideally, a standard candle is bright so that it can be observed over large distances."
     ]
    },
    {
     "cell_type": "heading",
     "level": 4,
     "metadata": {},
     "source": [
      "Problem 21.31"
     ]
    },
    {
     "cell_type": "markdown",
     "metadata": {},
     "source": [
      "21-cm emission detects neutral Hydrogen gas.  We can measure the Doppler shift of this gas as it orbits around the center of the Milky Way, and from this we can determine its rotation speed."
     ]
    },
    {
     "cell_type": "heading",
     "level": 4,
     "metadata": {},
     "source": [
      "Problem 21.37"
     ]
    },
    {
     "cell_type": "markdown",
     "metadata": {},
     "source": [
      "The Doppler shifts of stars near the galactic center are very large. This implies that there must be a tremendous mass packed into a small volume in the galactic center. Gamma ray, X-ray, and radio emissions emanating from the galactic center are also black hole signatures."
     ]
    },
    {
     "cell_type": "heading",
     "level": 4,
     "metadata": {},
     "source": [
      "Problem 21.42"
     ]
    },
    {
     "cell_type": "markdown",
     "metadata": {},
     "source": [
      "(a) Based on Figure 21.7, the rotation velocity of a disk star 6,000 pc from the center of the Milky Way is about 240 km/s."
     ]
    },
    {
     "cell_type": "markdown",
     "metadata": {},
     "source": [
      "(b) Assuming a circular orbit, the time to complete one revolution is given by:\n",
      "\n",
      "$$ \\rm speed = \\frac{distance}{time} = \\frac{2 \\pi r}{T} $$\n",
      "\n",
      "Thus, solving for the period T yields:\n",
      "\n",
      "$$ \\rm  T = \\frac{2 \\pi r}{speed} $$"
     ]
    },
    {
     "cell_type": "code",
     "collapsed": false,
     "input": [
      "speed = 240. #km/s\n",
      "radius = 6.e3 # radius in parsec\n",
      "km_per_parsec = 3.08e13 # parsec\n",
      "T = 2*3.14*(radius*km_per_parsec)/speed\n",
      "T_yrs = T/3.2e7\n",
      "print 'time to complete one orbit = %5.1e seconds or %3.0f million yrs'%(T,T_yrs/1.e6)\n"
     ],
     "language": "python",
     "metadata": {},
     "outputs": [
      {
       "output_type": "stream",
       "stream": "stdout",
       "text": [
        "time to complete one orbit = 4.8e+15 seconds or 151 million yrs\n"
       ]
      }
     ],
     "prompt_number": 31
    },
    {
     "cell_type": "heading",
     "level": 4,
     "metadata": {},
     "source": [
      "Problem 21.44"
     ]
    },
    {
     "cell_type": "code",
     "collapsed": false,
     "input": [
      "period = 230.e6 # time to complete one rotation about center of MW\n",
      "age_sun = 4.6e9 # Sun's age is 4.6 billion yrs\n",
      "Nrotation = age_sun/period\n",
      "print 'Number of rotations = %5.1f'%(Nrotation)\n"
     ],
     "language": "python",
     "metadata": {},
     "outputs": [
      {
       "output_type": "stream",
       "stream": "stdout",
       "text": [
        "Number of rotations =  20.0\n"
       ]
      }
     ],
     "prompt_number": 22
    },
    {
     "cell_type": "heading",
     "level": 4,
     "metadata": {},
     "source": [
      "Problem 21.46"
     ]
    },
    {
     "cell_type": "markdown",
     "metadata": {},
     "source": [
      "(a) We solved this in class.  Briefly, we know that the luminosity of RR Lyrae and the globular cluster star are the same (RR Lyrae is a standard candle).  \n",
      "\n",
      "We can make use of the relationship between brightness, B, luminosity, L, and distance, d:\n",
      "\n",
      "$$ \\rm B = \\frac{L}{4 \\pi d^2} $$\n",
      "\n",
      "Solving for luminosity gives:\n",
      "\n",
      "$$\\rm L = B \\times 4 \\pi d^2$$\n",
      "\n",
      "Starting with the fact that the luminosities are equal:\n",
      "\n",
      "$$ L_{RR} = L_{star} \\\\ B_{RR} \\times 4 \\pi d_{RR}^2 = B_{star} \\times 4 \\pi d_{star}^2 $$\n",
      "\n",
      "$$B_{RR} \\times d_{RR}^2 = B_{star} \\times d_{star}^2 $$\n",
      "\n",
      "We are told that $B_{star} = B_{RR}/160,000$, so:\n",
      "\n",
      "$$B_{RR} \\times d_{RR}^2 = \\frac{B_{RR}}{160,000} \\times d_{star}^2 $$\n",
      "\n",
      "Dividing both sides by $B_{RR}$ gives:\n",
      "\n",
      "$$d_{RR}^2 = \\frac{1}{160,000} \\times d_{star}^2 $$\n",
      "\n",
      "Solving for $d_{star}$:\n",
      "\n",
      "$$160,000 \\times d_{RR}^2 =  d_{star}^2 $$\n",
      "\n",
      "$$\\sqrt{160,000 \\times d_{RR}^2 }=  \\sqrt{d_{star}^2 }$$\n",
      "\n",
      "$$\\sqrt{160,000} \\times d_{RR}=  {d_{star} }$$"
     ]
    },
    {
     "cell_type": "code",
     "collapsed": false,
     "input": [
      "import numpy as np\n",
      "d_RR = 230. # distance to RR Lyrae in pc\n",
      "d_star = d_RR*np.sqrt(160000.)\n",
      "print 'distance to star = %5.1e pc or %5.1f kpc'%(d_star,d_star/1.e3)"
     ],
     "language": "python",
     "metadata": {},
     "outputs": [
      {
       "output_type": "stream",
       "stream": "stdout",
       "text": [
        "distance to star = 9.2e+04 pc or  92.0 kpc\n"
       ]
      }
     ],
     "prompt_number": 35
    },
    {
     "cell_type": "markdown",
     "metadata": {},
     "source": [
      "(b) The fact that the globular cluster is so far away tells us that the Milky Way's halo is much larger than its disk."
     ]
    },
    {
     "cell_type": "heading",
     "level": 4,
     "metadata": {},
     "source": [
      "Problem 21.59"
     ]
    },
    {
     "cell_type": "markdown",
     "metadata": {},
     "source": [
      "Web activity - Milky Way Project!"
     ]
    },
    {
     "cell_type": "code",
     "collapsed": false,
     "input": [],
     "language": "python",
     "metadata": {},
     "outputs": []
    }
   ],
   "metadata": {}
  }
 ]
}